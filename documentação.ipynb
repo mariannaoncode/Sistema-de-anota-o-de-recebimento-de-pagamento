{
 "cells": [
  {
   "cell_type": "markdown",
   "id": "944b0d8d",
   "metadata": {},
   "source": [
    "## 💼 Sistema de Anotação de Pagamentos 📌\n",
    "Este projeto em Python usa a biblioteca tkinter para criar um sistema de cadastro de colaboradores e registro de pagamento.\n",
    "\n",
    "### 🔍 Funcionalidades:\n",
    "- 📝 Cadastro de colaboradores com nome e datas relevantes (nascimento, pagamento).\n",
    "\n",
    "- ✅ Indicação visual de status de pagamento.\n",
    "\n",
    "- 💾 Armazenamento dos dados em um arquivo JSON.\n",
    "\n",
    "- ✏️ Edição e exclusão de registros."
   ]
  },
  {
   "cell_type": "markdown",
   "id": "b66b3bd1",
   "metadata": {},
   "source": [
    "### 🛠️ 1. Importação de Bibliotecas"
   ]
  },
  {
   "cell_type": "code",
   "execution_count": 1,
   "id": "fc441566",
   "metadata": {},
   "outputs": [],
   "source": [
    "import tkinter as tk\n",
    "from tkinter import ttk, messagebox\n",
    "import json\n",
    "from datetime import datetime\n",
    "import os\n"
   ]
  },
  {
   "cell_type": "markdown",
   "id": "cd937e6c",
   "metadata": {},
   "source": [
    "Bibliotecas necessárias para:\n",
    "\n",
    "- 🎨 Criar a interface gráfica (tkinter e ttk).\n",
    "\n",
    "- ⚠️ Gerenciar mensagens (messagebox).\n",
    "\n",
    "- 💾 Trabalhar com JSON (json).\n",
    "\n",
    "- ⏳ Manipular datas (datetime).\n",
    "\n",
    "- 📂 Trabalhar com arquivos (os)."
   ]
  },
  {
   "cell_type": "markdown",
   "id": "c6218c8a",
   "metadata": {},
   "source": [
    "### ⏳ 2. Classe DateEntry (Campo para Datas)"
   ]
  },
  {
   "cell_type": "code",
   "execution_count": 2,
   "id": "550185d5",
   "metadata": {},
   "outputs": [],
   "source": [
    "class DateEntry(tk.Entry):\n",
    "    \"\"\"\n",
    "    Entry que formata DD/MM/AAAA enquanto o usuário digita,\n",
    "    com as barras visíveis e posicionamento correto do cursor.\n",
    "    \"\"\"\n",
    "    def __init__(self, master=None, **kwargs):\n",
    "        super().__init__(master, **kwargs)\n",
    "        self.var = tk.StringVar()\n",
    "        self.configure(textvariable=self.var)\n",
    "        self.var.trace_add('write', self.on_write)\n",
    "        self.updating = False\n",
    "\n",
    "    def on_write(self, *args):\n",
    "        if self.updating:\n",
    "            return\n",
    "\n",
    "        self.updating = True\n",
    "        value = self.var.get()\n",
    "\n",
    "        # Extrai só os dígitos, máximo 8 (ddmmyyyy)\n",
    "        digits = ''.join(filter(str.isdigit, value))[:8]\n",
    "\n",
    "        # Monta a nova string com barras após 2 e 4 dígitos\n",
    "        new_value = ''\n",
    "        for i, ch in enumerate(digits):\n",
    "            new_value += ch\n",
    "            if i == 1 or i == 3:\n",
    "                new_value += '/'\n",
    "\n",
    "        self.var.set(new_value)\n",
    "\n",
    "        # Garante que o cursor vá para o final após a atualização da string\n",
    "        self.after_idle(lambda: self.icursor(tk.END))\n",
    "\n",
    "        self.updating = False\n"
   ]
  },
  {
   "cell_type": "markdown",
   "id": "be3e6be2",
   "metadata": {},
   "source": [
    "Essa classe customiza um campo de entrada (Entry) para permitir que o usuário digite datas no formato DD/MM/AAAA, inserindo automaticamente as barras."
   ]
  },
  {
   "cell_type": "markdown",
   "id": "ff3ca5a5",
   "metadata": {},
   "source": [
    "### 🏗️ 3. Classe CadastroApp (Estrutura Principal)"
   ]
  },
  {
   "cell_type": "code",
   "execution_count": 3,
   "id": "19d5598c",
   "metadata": {},
   "outputs": [],
   "source": [
    "class CadastroApp:\n",
    "    def __init__(self, root):\n",
    "        \"\"\"\n",
    "        Classe principal que gerencia a interface e as funcionalidades do sistema.\n",
    "        \"\"\"\n",
    "        self.root = root\n",
    "        self.root.title(\"Sistema de anotação de recebimento de pagamento\")\n",
    "        self.root.geometry(\"700x550\")\n",
    "        self.root.resizable(False, False)\n",
    "\n",
    "        # Ícone peixe (coloque o peixe.ico na mesma pasta)\n",
    "        icon_path = os.path.join(os.path.dirname(__file__), 'peixe.ico')\n",
    "        if os.path.exists(icon_path):\n",
    "            self.root.iconbitmap(icon_path)\n",
    "\n",
    "        self.funcionarios = []\n",
    "        self.load_data()\n",
    "\n",
    "        self.selected_index = None\n",
    "        self.create_widgets()\n",
    "        self.refresh_table()"
   ]
  },
  {
   "cell_type": "markdown",
   "id": "1d66db07",
   "metadata": {},
   "source": [
    "Esta classe define a estrutura principal da aplicação e os métodos responsáveis pelo funcionamento do sistema."
   ]
  },
  {
   "cell_type": "markdown",
   "id": "48332f14",
   "metadata": {},
   "source": [
    "### 🎨 4. Método create_widgets() (Interface Gráfica)"
   ]
  },
  {
   "cell_type": "code",
   "execution_count": 4,
   "id": "5a795a06",
   "metadata": {},
   "outputs": [],
   "source": [
    "def create_widgets(self):\n",
    "    \"\"\"\n",
    "    Criando os elementos visuais do sistema, como entradas e botões.\n",
    "    \"\"\"\n",
    "    frm_form = tk.Frame(self.root)\n",
    "    frm_form.pack(padx=10, pady=10, fill=tk.X)\n",
    "\n",
    "    lbl_nome = tk.Label(frm_form, text=\"Nome completo:\")\n",
    "    lbl_nome.grid(row=0, column=0, sticky=tk.W, pady=2, padx=5)\n",
    "    self.ent_nome = tk.Entry(frm_form)\n",
    "    self.ent_nome.insert(0, \" \")\n",
    "    self.ent_nome.grid(row=0, column=1, sticky=tk.EW, pady=2, padx=5)\n",
    "\n",
    "    lbl_nasc = tk.Label(frm_form, text=\"Data de nascimento (DD/MM/AAAA):\")\n",
    "    lbl_nasc.grid(row=1, column=0, sticky=tk.W, pady=2, padx=5)\n",
    "    self.ent_nasc = DateEntry(frm_form)\n",
    "    self.ent_nasc.grid(row=1, column=1, sticky=tk.EW, pady=2, padx=5)"
   ]
  },
  {
   "cell_type": "markdown",
   "id": "bc4a5354",
   "metadata": {},
   "source": [
    "Responsável por criar os campos de entrada (Entry), botões e a tabela (Treeview)."
   ]
  },
  {
   "cell_type": "markdown",
   "id": "1ae2cbd0",
   "metadata": {},
   "source": [
    "### 📂 5. Funções para Gerenciamento dos Dados"
   ]
  },
  {
   "cell_type": "code",
   "execution_count": 5,
   "id": "48e03d92",
   "metadata": {},
   "outputs": [],
   "source": [
    "def load_data(self):\n",
    "    \"\"\"\n",
    "    Carrega os dados salvos no arquivo JSON.\n",
    "    \"\"\"\n",
    "    if os.path.exists(DATA_FILE):\n",
    "        try:\n",
    "            with open(DATA_FILE, \"r\", encoding=\"utf-8\") as f:\n",
    "                self.funcionarios = json.load(f)\n",
    "        except Exception as e:\n",
    "            messagebox.showerror(\"Erro\", f\"Falha ao carregar dados:\\n{e}\")\n",
    "            self.funcionarios = []\n",
    "    else:\n",
    "        self.funcionarios = []\n"
   ]
  },
  {
   "cell_type": "markdown",
   "id": "8b101281",
   "metadata": {},
   "source": [
    "Aqui estão as funções para carregar, salvar e validar dados."
   ]
  },
  {
   "cell_type": "markdown",
   "id": "6298f583",
   "metadata": {},
   "source": [
    "### 🔄 6. Método refresh_table() (Atualizar Registros)"
   ]
  },
  {
   "cell_type": "code",
   "execution_count": 6,
   "id": "c14c06ef",
   "metadata": {},
   "outputs": [],
   "source": [
    "def refresh_table(self):\n",
    "    \"\"\"\n",
    "    Atualiza os dados na tabela exibida na interface.\n",
    "    \"\"\"\n",
    "    for i in self.tree.get_children():\n",
    "        self.tree.delete(i)\n",
    "\n",
    "    mes_atual = datetime.now().month\n",
    "    for idx, colab in enumerate(self.funcionarios):\n",
    "        pago_str = \"Sim\" if colab[\"pago\"] else \"Não\"\n",
    "\n",
    "        try:\n",
    "            data_nasc = datetime.strptime(colab[\"nascimento\"], \"%d/%m/%Y\")\n",
    "            aniversariante = \"🎉\" if data_nasc.month == mes_atual else \"\"\n",
    "        except:\n",
    "            aniversariante = \"\"\n",
    "\n",
    "        self.tree.insert(\"\", tk.END, iid=idx, values=(colab[\"nome\"], colab[\"nascimento\"], colab[\"cadastro\"], pago_str, aniversariante))\n"
   ]
  },
  {
   "cell_type": "markdown",
   "id": "9f32be1d",
   "metadata": {},
   "source": [
    "Atualiza a tabela com os dados cadastrados."
   ]
  },
  {
   "cell_type": "markdown",
   "id": "f0192d55",
   "metadata": {},
   "source": [
    "### 🚀 7. Inicializando a Aplicação"
   ]
  },
  {
   "cell_type": "code",
   "execution_count": null,
   "id": "b6f190c5",
   "metadata": {},
   "outputs": [],
   "source": []
  },
  {
   "cell_type": "markdown",
   "id": "d7427820",
   "metadata": {},
   "source": [
    "Por fim, o código para iniciar o programa."
   ]
  },
  {
   "cell_type": "markdown",
   "id": "f07b050e",
   "metadata": {},
   "source": [
    "python -m PyInstaller --noconfirm --onefile --windowed --icon=peixe.ico cadastro.py\n"
   ]
  }
 ],
 "metadata": {
  "kernelspec": {
   "display_name": "Python 3",
   "language": "python",
   "name": "python3"
  },
  "language_info": {
   "codemirror_mode": {
    "name": "ipython",
    "version": 3
   },
   "file_extension": ".py",
   "mimetype": "text/x-python",
   "name": "python",
   "nbconvert_exporter": "python",
   "pygments_lexer": "ipython3",
   "version": "3.11.9"
  }
 },
 "nbformat": 4,
 "nbformat_minor": 5
}
